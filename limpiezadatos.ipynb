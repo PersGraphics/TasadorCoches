{
  "cells": [
    {
      "cell_type": "markdown",
      "metadata": {
        "colab_type": "text",
        "id": "view-in-github"
      },
      "source": [
        "<a href=\"https://colab.research.google.com/github/slapazromero/Coches_net/blob/main/Analisis_de_datos.ipynb\" target=\"_parent\"><img src=\"https://colab.research.google.com/assets/colab-badge.svg\" alt=\"Open In Colab\"/></a>"
      ]
    },
    {
      "cell_type": "markdown",
      "metadata": {
        "id": "ydP9cY_phTxG"
      },
      "source": [
        "# 1. Importación de librerias."
      ]
    },
    {
      "cell_type": "code",
      "execution_count": 1,
      "metadata": {
        "id": "lLilfuKNPRKK"
      },
      "outputs": [],
      "source": [
        "import pandas as pd\n",
        "import numpy as np\n",
        "\n",
        "from google.colab import files\n",
        "import io\n",
        "\n",
        "import os\n",
        "import csv\n",
        "import json\n",
        "\n",
        "import matplotlib.pyplot as plt\n",
        "import seaborn as sns"
      ]
    },
    {
      "cell_type": "markdown",
      "metadata": {
        "id": "W82C8Tbx7_mW"
      },
      "source": [
        "# 2. Importación de datos"
      ]
    },
    {
      "cell_type": "code",
      "execution_count": 2,
      "metadata": {
        "id": "dFIMOzakae3k"
      },
      "outputs": [],
      "source": [
        "#funciones para la obtención de columnas con valores nulos\n",
        "def columns_without_values(data):\n",
        "    columns = data.isnull().sum()\n",
        "    print(columns[columns > 0])\n",
        "\n",
        "#funciones para obtener la representación de los diagramas de cajas\n",
        "def draw_hist_boxplot(df, feature_name):\n",
        "    sns.boxplot(x=feature_name, data=df)\n",
        "    sns.stripplot(x=feature_name, data=df, color=\"#474646\")\n",
        "\n",
        "#funciones que se utilizan para 'corregir' valores atípicos\n",
        "def replace_outliers_with_median(df, feature_name):\n",
        "    Q1 = df[feature_name].quantile(0.25)\n",
        "    median = df[feature_name].quantile(0.5)\n",
        "    Q3 = df[feature_name].quantile(0.75)\n",
        "    IQR = Q3 - Q1\n",
        "    lower_whisker = Q1 - 1.5 * IQR\n",
        "    upper_whisker = Q3 + 1.5 * IQR\n",
        "    df[feature_name] = np.where((df[feature_name] < lower_whisker) | \n",
        "                                (df[feature_name] > upper_whisker), \n",
        "                                 median, \n",
        "                                 df[feature_name])"
      ]
    },
    {
      "cell_type": "code",
      "execution_count": 4,
      "metadata": {
        "id": "LEDeXFfk9AbT"
      },
      "outputs": [],
      "source": [
        "def read_file(filename):\n",
        "  if filename.endswith(\".json\"):\n",
        "    df = pd.read_json(filename, encoding='utf-8')\n",
        "  elif filename.endswith(\".csv\"):\n",
        "    df = pd.read_csv(filename, encoding='utf-8')\n",
        "  else:\n",
        "    print(\"El archivo no es valido.\")\n",
        "    return None\n",
        "    \n",
        "  return df\n",
        "\n",
        "def format_file(df):\n",
        "  return df.drop('resto_de_datos', axis=1).join(pd.json_normalize(df['resto_de_datos']).drop('url', axis=1))"
      ]
    },
    {
      "cell_type": "code",
      "execution_count": 5,
      "metadata": {
        "id": "85856ZYhVwvZ"
      },
      "outputs": [],
      "source": [
        "def create_dataframe(data, filename):\n",
        "  df = read_file(filename)\n",
        "  if 'resto_de_datos' in df:\n",
        "    df = format_file(df)\n",
        "  if data is None or data.empty:\n",
        "    data = df\n",
        "  else:\n",
        "    data = pd.concat([data, df], ignore_index=True)\n",
        "  return data"
      ]
    },
    {
      "cell_type": "code",
      "execution_count": 6,
      "metadata": {
        "colab": {
          "base_uri": "https://localhost:8080/"
        },
        "id": "bjgqdQXHWwEo",
        "outputId": "3e881a3b-31fa-4f0e-f5bd-54efafb45de8"
      },
      "outputs": [
        {
          "name": "stdout",
          "output_type": "stream",
          "text": [
            "/content/09.json\n",
            "/content/11.json\n",
            "/content/18.csv\n",
            "/content/05.json\n",
            "/content/06.json\n",
            "/content/13.json\n",
            "/content/10.json\n",
            "/content/16.json\n",
            "/content/07.json\n",
            "/content/02.json\n",
            "/content/08.json\n",
            "/content/15.json\n",
            "/content/03.json\n",
            "/content/12.json\n",
            "/content/17.csv\n",
            "/content/14.json\n",
            "/content/01.json\n",
            "/content/04.json\n"
          ]
        }
      ],
      "source": [
        "folder_path = \"/content/\"\n",
        "\n",
        "for filename in os.listdir(folder_path):\n",
        "  full_path = os.path.join(folder_path, filename)\n",
        "  if os.path.isfile(full_path):\n",
        "    print(full_path)\n",
        "    data = create_dataframe(data, full_path)"
      ]
    },
    {
      "cell_type": "code",
      "execution_count": 7,
      "metadata": {
        "id": "tQga7yNss4jX"
      },
      "outputs": [],
      "source": [
        "df = data"
      ]
    },
    {
      "cell_type": "markdown",
      "metadata": {
        "id": "-fVfq8g27fqf"
      },
      "source": [
        "Obtener información acerca de los datos que se acaban de leer."
      ]
    },
    {
      "cell_type": "code",
      "execution_count": 8,
      "metadata": {
        "colab": {
          "base_uri": "https://localhost:8080/"
        },
        "id": "Nmwc2z8C6qcx",
        "outputId": "b748e343-e8c3-460c-c04f-b8e871782dd1"
      },
      "outputs": [
        {
          "data": {
            "text/plain": [
              "pandas.core.frame.DataFrame"
            ]
          },
          "execution_count": 8,
          "metadata": {},
          "output_type": "execute_result"
        }
      ],
      "source": [
        "type(df)"
      ]
    },
    {
      "cell_type": "code",
      "execution_count": 9,
      "metadata": {
        "colab": {
          "base_uri": "https://localhost:8080/",
          "height": 0
        },
        "id": "sl695V5n5K_R",
        "outputId": "88477b76-241b-46dd-f0a8-f065b158ea57"
      },
      "outputs": [
        {
          "data": {
            "text/html": [
              "\n",
              "  <div id=\"df-133af615-61d4-40a2-8939-8a12ee8bcdd0\">\n",
              "    <div class=\"colab-df-container\">\n",
              "      <div>\n",
              "<style scoped>\n",
              "    .dataframe tbody tr th:only-of-type {\n",
              "        vertical-align: middle;\n",
              "    }\n",
              "\n",
              "    .dataframe tbody tr th {\n",
              "        vertical-align: top;\n",
              "    }\n",
              "\n",
              "    .dataframe thead th {\n",
              "        text-align: right;\n",
              "    }\n",
              "</style>\n",
              "<table border=\"1\" class=\"dataframe\">\n",
              "  <thead>\n",
              "    <tr style=\"text-align: right;\">\n",
              "      <th></th>\n",
              "      <th>url</th>\n",
              "      <th>datetime</th>\n",
              "      <th>color</th>\n",
              "      <th>fuelTypeId</th>\n",
              "      <th>fuelType</th>\n",
              "      <th>id</th>\n",
              "      <th>km</th>\n",
              "      <th>make</th>\n",
              "      <th>makeId</th>\n",
              "      <th>model</th>\n",
              "      <th>...</th>\n",
              "      <th>cubicCapacity</th>\n",
              "      <th>doors</th>\n",
              "      <th>hp</th>\n",
              "      <th>Unnamed: 0</th>\n",
              "      <th>seller_type_id</th>\n",
              "      <th>body_types</th>\n",
              "      <th>body_types_id</th>\n",
              "      <th>date</th>\n",
              "      <th>publicationDate</th>\n",
              "      <th>fecha</th>\n",
              "    </tr>\n",
              "  </thead>\n",
              "  <tbody>\n",
              "    <tr>\n",
              "      <th>0</th>\n",
              "      <td>https://www.coches.net/opel-corsa-14-66kw-90cv...</td>\n",
              "      <td>2023-04-09 21:14:47</td>\n",
              "      <td>COMMON.COLOR_WHITE</td>\n",
              "      <td>2.0</td>\n",
              "      <td>Gasolina</td>\n",
              "      <td>54067804</td>\n",
              "      <td>78175.0</td>\n",
              "      <td>OPEL</td>\n",
              "      <td>32.0</td>\n",
              "      <td>Corsa</td>\n",
              "      <td>...</td>\n",
              "      <td>1398.0</td>\n",
              "      <td>5.0</td>\n",
              "      <td>90.0</td>\n",
              "      <td>NaN</td>\n",
              "      <td>NaN</td>\n",
              "      <td>NaN</td>\n",
              "      <td>NaN</td>\n",
              "      <td>NaN</td>\n",
              "      <td>NaN</td>\n",
              "      <td>NaN</td>\n",
              "    </tr>\n",
              "    <tr>\n",
              "      <th>1</th>\n",
              "      <td>https://www.coches.net/opel-grandland-x-16-cdt...</td>\n",
              "      <td>2023-04-09 21:14:52</td>\n",
              "      <td>COMMON.COLOR_BLUE</td>\n",
              "      <td>1.0</td>\n",
              "      <td>Diésel</td>\n",
              "      <td>53524767</td>\n",
              "      <td>77115.0</td>\n",
              "      <td>OPEL</td>\n",
              "      <td>32.0</td>\n",
              "      <td>Grandland X</td>\n",
              "      <td>...</td>\n",
              "      <td>1560.0</td>\n",
              "      <td>5.0</td>\n",
              "      <td>120.0</td>\n",
              "      <td>NaN</td>\n",
              "      <td>NaN</td>\n",
              "      <td>NaN</td>\n",
              "      <td>NaN</td>\n",
              "      <td>NaN</td>\n",
              "      <td>NaN</td>\n",
              "      <td>NaN</td>\n",
              "    </tr>\n",
              "    <tr>\n",
              "      <th>2</th>\n",
              "      <td>https://www.coches.net/opel-corsa-14-selective...</td>\n",
              "      <td>2023-04-09 21:14:56</td>\n",
              "      <td>COMMON.COLOR_WHITE</td>\n",
              "      <td>6.0</td>\n",
              "      <td>Gas licuado (GLP)</td>\n",
              "      <td>54581374</td>\n",
              "      <td>48100.0</td>\n",
              "      <td>OPEL</td>\n",
              "      <td>32.0</td>\n",
              "      <td>Corsa</td>\n",
              "      <td>...</td>\n",
              "      <td>1398.0</td>\n",
              "      <td>5.0</td>\n",
              "      <td>90.0</td>\n",
              "      <td>NaN</td>\n",
              "      <td>NaN</td>\n",
              "      <td>NaN</td>\n",
              "      <td>NaN</td>\n",
              "      <td>NaN</td>\n",
              "      <td>NaN</td>\n",
              "      <td>NaN</td>\n",
              "    </tr>\n",
              "    <tr>\n",
              "      <th>3</th>\n",
              "      <td>https://www.coches.net/opel-corsa-12t-xhl-74kw...</td>\n",
              "      <td>2023-04-09 21:15:02</td>\n",
              "      <td>COMMON.COLOR_BLUE</td>\n",
              "      <td>2.0</td>\n",
              "      <td>Gasolina</td>\n",
              "      <td>54360894</td>\n",
              "      <td>43990.0</td>\n",
              "      <td>OPEL</td>\n",
              "      <td>32.0</td>\n",
              "      <td>Corsa</td>\n",
              "      <td>...</td>\n",
              "      <td>1199.0</td>\n",
              "      <td>5.0</td>\n",
              "      <td>100.0</td>\n",
              "      <td>NaN</td>\n",
              "      <td>NaN</td>\n",
              "      <td>NaN</td>\n",
              "      <td>NaN</td>\n",
              "      <td>NaN</td>\n",
              "      <td>NaN</td>\n",
              "      <td>NaN</td>\n",
              "    </tr>\n",
              "    <tr>\n",
              "      <th>4</th>\n",
              "      <td>https://www.coches.net/opel-combo-life-15-td-7...</td>\n",
              "      <td>2023-04-09 21:15:08</td>\n",
              "      <td>COMMON.COLOR_BEIGE</td>\n",
              "      <td>1.0</td>\n",
              "      <td>Diésel</td>\n",
              "      <td>54352301</td>\n",
              "      <td>31000.0</td>\n",
              "      <td>OPEL</td>\n",
              "      <td>32.0</td>\n",
              "      <td>Combo Life</td>\n",
              "      <td>...</td>\n",
              "      <td>1499.0</td>\n",
              "      <td>5.0</td>\n",
              "      <td>102.0</td>\n",
              "      <td>NaN</td>\n",
              "      <td>NaN</td>\n",
              "      <td>NaN</td>\n",
              "      <td>NaN</td>\n",
              "      <td>NaN</td>\n",
              "      <td>NaN</td>\n",
              "      <td>NaN</td>\n",
              "    </tr>\n",
              "    <tr>\n",
              "      <th>...</th>\n",
              "      <td>...</td>\n",
              "      <td>...</td>\n",
              "      <td>...</td>\n",
              "      <td>...</td>\n",
              "      <td>...</td>\n",
              "      <td>...</td>\n",
              "      <td>...</td>\n",
              "      <td>...</td>\n",
              "      <td>...</td>\n",
              "      <td>...</td>\n",
              "      <td>...</td>\n",
              "      <td>...</td>\n",
              "      <td>...</td>\n",
              "      <td>...</td>\n",
              "      <td>...</td>\n",
              "      <td>...</td>\n",
              "      <td>...</td>\n",
              "      <td>...</td>\n",
              "      <td>...</td>\n",
              "      <td>...</td>\n",
              "      <td>...</td>\n",
              "    </tr>\n",
              "    <tr>\n",
              "      <th>14334</th>\n",
              "      <td>https://www.coches.net/skoda-rapid-16-tdi-cr-1...</td>\n",
              "      <td>2023-04-12 20:38:31</td>\n",
              "      <td>COMMON.COLOR_WHITE</td>\n",
              "      <td>1.0</td>\n",
              "      <td>Diésel</td>\n",
              "      <td>53623274</td>\n",
              "      <td>92000.0</td>\n",
              "      <td>SKODA</td>\n",
              "      <td>40.0</td>\n",
              "      <td>Rapid</td>\n",
              "      <td>...</td>\n",
              "      <td>1598.0</td>\n",
              "      <td>5.0</td>\n",
              "      <td>105.0</td>\n",
              "      <td>NaN</td>\n",
              "      <td>NaN</td>\n",
              "      <td>NaN</td>\n",
              "      <td>NaN</td>\n",
              "      <td>NaN</td>\n",
              "      <td>NaN</td>\n",
              "      <td>NaN</td>\n",
              "    </tr>\n",
              "    <tr>\n",
              "      <th>14335</th>\n",
              "      <td>https://www.coches.net/skoda-fabia-12-60cv-spi...</td>\n",
              "      <td>2023-04-12 20:38:37</td>\n",
              "      <td>COMMON.COLOR_WHITE</td>\n",
              "      <td>2.0</td>\n",
              "      <td>Gasolina</td>\n",
              "      <td>54174781</td>\n",
              "      <td>56000.0</td>\n",
              "      <td>SKODA</td>\n",
              "      <td>40.0</td>\n",
              "      <td>Fabia</td>\n",
              "      <td>...</td>\n",
              "      <td>1198.0</td>\n",
              "      <td>5.0</td>\n",
              "      <td>60.0</td>\n",
              "      <td>NaN</td>\n",
              "      <td>NaN</td>\n",
              "      <td>NaN</td>\n",
              "      <td>NaN</td>\n",
              "      <td>NaN</td>\n",
              "      <td>NaN</td>\n",
              "      <td>NaN</td>\n",
              "    </tr>\n",
              "    <tr>\n",
              "      <th>14336</th>\n",
              "      <td>https://www.coches.net/skoda-karoq-20-tdi-110k...</td>\n",
              "      <td>2023-04-12 20:38:43</td>\n",
              "      <td>COMMON.COLOR_RED</td>\n",
              "      <td>1.0</td>\n",
              "      <td>Diésel</td>\n",
              "      <td>54365803</td>\n",
              "      <td>28500.0</td>\n",
              "      <td>SKODA</td>\n",
              "      <td>40.0</td>\n",
              "      <td>Karoq</td>\n",
              "      <td>...</td>\n",
              "      <td>1968.0</td>\n",
              "      <td>5.0</td>\n",
              "      <td>150.0</td>\n",
              "      <td>NaN</td>\n",
              "      <td>NaN</td>\n",
              "      <td>NaN</td>\n",
              "      <td>NaN</td>\n",
              "      <td>NaN</td>\n",
              "      <td>NaN</td>\n",
              "      <td>NaN</td>\n",
              "    </tr>\n",
              "    <tr>\n",
              "      <th>14337</th>\n",
              "      <td>https://www.coches.net/skoda-octavia-combi-16-...</td>\n",
              "      <td>2023-04-12 20:38:49</td>\n",
              "      <td>COMMON.COLOR_GRAY</td>\n",
              "      <td>1.0</td>\n",
              "      <td>Diésel</td>\n",
              "      <td>54839233</td>\n",
              "      <td>111000.0</td>\n",
              "      <td>SKODA</td>\n",
              "      <td>40.0</td>\n",
              "      <td>Octavia</td>\n",
              "      <td>...</td>\n",
              "      <td>1598.0</td>\n",
              "      <td>5.0</td>\n",
              "      <td>115.0</td>\n",
              "      <td>NaN</td>\n",
              "      <td>NaN</td>\n",
              "      <td>NaN</td>\n",
              "      <td>NaN</td>\n",
              "      <td>NaN</td>\n",
              "      <td>NaN</td>\n",
              "      <td>NaN</td>\n",
              "    </tr>\n",
              "    <tr>\n",
              "      <th>14338</th>\n",
              "      <td>https://www.coches.net/skoda-fabia-10-tsi-70kw...</td>\n",
              "      <td>2023-04-12 20:38:54</td>\n",
              "      <td>COMMON.COLOR_GRAY</td>\n",
              "      <td>2.0</td>\n",
              "      <td>Gasolina</td>\n",
              "      <td>54737102</td>\n",
              "      <td>48807.0</td>\n",
              "      <td>SKODA</td>\n",
              "      <td>40.0</td>\n",
              "      <td>Fabia</td>\n",
              "      <td>...</td>\n",
              "      <td>999.0</td>\n",
              "      <td>5.0</td>\n",
              "      <td>95.0</td>\n",
              "      <td>NaN</td>\n",
              "      <td>NaN</td>\n",
              "      <td>NaN</td>\n",
              "      <td>NaN</td>\n",
              "      <td>NaN</td>\n",
              "      <td>NaN</td>\n",
              "      <td>NaN</td>\n",
              "    </tr>\n",
              "  </tbody>\n",
              "</table>\n",
              "<p>14339 rows × 34 columns</p>\n",
              "</div>\n",
              "      <button class=\"colab-df-convert\" onclick=\"convertToInteractive('df-133af615-61d4-40a2-8939-8a12ee8bcdd0')\"\n",
              "              title=\"Convert this dataframe to an interactive table.\"\n",
              "              style=\"display:none;\">\n",
              "        \n",
              "  <svg xmlns=\"http://www.w3.org/2000/svg\" height=\"24px\"viewBox=\"0 0 24 24\"\n",
              "       width=\"24px\">\n",
              "    <path d=\"M0 0h24v24H0V0z\" fill=\"none\"/>\n",
              "    <path d=\"M18.56 5.44l.94 2.06.94-2.06 2.06-.94-2.06-.94-.94-2.06-.94 2.06-2.06.94zm-11 1L8.5 8.5l.94-2.06 2.06-.94-2.06-.94L8.5 2.5l-.94 2.06-2.06.94zm10 10l.94 2.06.94-2.06 2.06-.94-2.06-.94-.94-2.06-.94 2.06-2.06.94z\"/><path d=\"M17.41 7.96l-1.37-1.37c-.4-.4-.92-.59-1.43-.59-.52 0-1.04.2-1.43.59L10.3 9.45l-7.72 7.72c-.78.78-.78 2.05 0 2.83L4 21.41c.39.39.9.59 1.41.59.51 0 1.02-.2 1.41-.59l7.78-7.78 2.81-2.81c.8-.78.8-2.07 0-2.86zM5.41 20L4 18.59l7.72-7.72 1.47 1.35L5.41 20z\"/>\n",
              "  </svg>\n",
              "      </button>\n",
              "      \n",
              "  <style>\n",
              "    .colab-df-container {\n",
              "      display:flex;\n",
              "      flex-wrap:wrap;\n",
              "      gap: 12px;\n",
              "    }\n",
              "\n",
              "    .colab-df-convert {\n",
              "      background-color: #E8F0FE;\n",
              "      border: none;\n",
              "      border-radius: 50%;\n",
              "      cursor: pointer;\n",
              "      display: none;\n",
              "      fill: #1967D2;\n",
              "      height: 32px;\n",
              "      padding: 0 0 0 0;\n",
              "      width: 32px;\n",
              "    }\n",
              "\n",
              "    .colab-df-convert:hover {\n",
              "      background-color: #E2EBFA;\n",
              "      box-shadow: 0px 1px 2px rgba(60, 64, 67, 0.3), 0px 1px 3px 1px rgba(60, 64, 67, 0.15);\n",
              "      fill: #174EA6;\n",
              "    }\n",
              "\n",
              "    [theme=dark] .colab-df-convert {\n",
              "      background-color: #3B4455;\n",
              "      fill: #D2E3FC;\n",
              "    }\n",
              "\n",
              "    [theme=dark] .colab-df-convert:hover {\n",
              "      background-color: #434B5C;\n",
              "      box-shadow: 0px 1px 3px 1px rgba(0, 0, 0, 0.15);\n",
              "      filter: drop-shadow(0px 1px 2px rgba(0, 0, 0, 0.3));\n",
              "      fill: #FFFFFF;\n",
              "    }\n",
              "  </style>\n",
              "\n",
              "      <script>\n",
              "        const buttonEl =\n",
              "          document.querySelector('#df-133af615-61d4-40a2-8939-8a12ee8bcdd0 button.colab-df-convert');\n",
              "        buttonEl.style.display =\n",
              "          google.colab.kernel.accessAllowed ? 'block' : 'none';\n",
              "\n",
              "        async function convertToInteractive(key) {\n",
              "          const element = document.querySelector('#df-133af615-61d4-40a2-8939-8a12ee8bcdd0');\n",
              "          const dataTable =\n",
              "            await google.colab.kernel.invokeFunction('convertToInteractive',\n",
              "                                                     [key], {});\n",
              "          if (!dataTable) return;\n",
              "\n",
              "          const docLinkHtml = 'Like what you see? Visit the ' +\n",
              "            '<a target=\"_blank\" href=https://colab.research.google.com/notebooks/data_table.ipynb>data table notebook</a>'\n",
              "            + ' to learn more about interactive tables.';\n",
              "          element.innerHTML = '';\n",
              "          dataTable['output_type'] = 'display_data';\n",
              "          await google.colab.output.renderOutput(dataTable, element);\n",
              "          const docLink = document.createElement('div');\n",
              "          docLink.innerHTML = docLinkHtml;\n",
              "          element.appendChild(docLink);\n",
              "        }\n",
              "      </script>\n",
              "    </div>\n",
              "  </div>\n",
              "  "
            ],
            "text/plain": [
              "                                                     url            datetime  \\\n",
              "0      https://www.coches.net/opel-corsa-14-66kw-90cv... 2023-04-09 21:14:47   \n",
              "1      https://www.coches.net/opel-grandland-x-16-cdt... 2023-04-09 21:14:52   \n",
              "2      https://www.coches.net/opel-corsa-14-selective... 2023-04-09 21:14:56   \n",
              "3      https://www.coches.net/opel-corsa-12t-xhl-74kw... 2023-04-09 21:15:02   \n",
              "4      https://www.coches.net/opel-combo-life-15-td-7... 2023-04-09 21:15:08   \n",
              "...                                                  ...                 ...   \n",
              "14334  https://www.coches.net/skoda-rapid-16-tdi-cr-1... 2023-04-12 20:38:31   \n",
              "14335  https://www.coches.net/skoda-fabia-12-60cv-spi... 2023-04-12 20:38:37   \n",
              "14336  https://www.coches.net/skoda-karoq-20-tdi-110k... 2023-04-12 20:38:43   \n",
              "14337  https://www.coches.net/skoda-octavia-combi-16-... 2023-04-12 20:38:49   \n",
              "14338  https://www.coches.net/skoda-fabia-10-tsi-70kw... 2023-04-12 20:38:54   \n",
              "\n",
              "                    color  fuelTypeId           fuelType        id        km  \\\n",
              "0      COMMON.COLOR_WHITE         2.0           Gasolina  54067804   78175.0   \n",
              "1       COMMON.COLOR_BLUE         1.0             Diésel  53524767   77115.0   \n",
              "2      COMMON.COLOR_WHITE         6.0  Gas licuado (GLP)  54581374   48100.0   \n",
              "3       COMMON.COLOR_BLUE         2.0           Gasolina  54360894   43990.0   \n",
              "4      COMMON.COLOR_BEIGE         1.0             Diésel  54352301   31000.0   \n",
              "...                   ...         ...                ...       ...       ...   \n",
              "14334  COMMON.COLOR_WHITE         1.0             Diésel  53623274   92000.0   \n",
              "14335  COMMON.COLOR_WHITE         2.0           Gasolina  54174781   56000.0   \n",
              "14336    COMMON.COLOR_RED         1.0             Diésel  54365803   28500.0   \n",
              "14337   COMMON.COLOR_GRAY         1.0             Diésel  54839233  111000.0   \n",
              "14338   COMMON.COLOR_GRAY         2.0           Gasolina  54737102   48807.0   \n",
              "\n",
              "        make  makeId        model  ...  cubicCapacity  doors     hp  \\\n",
              "0       OPEL    32.0        Corsa  ...         1398.0    5.0   90.0   \n",
              "1       OPEL    32.0  Grandland X  ...         1560.0    5.0  120.0   \n",
              "2       OPEL    32.0        Corsa  ...         1398.0    5.0   90.0   \n",
              "3       OPEL    32.0        Corsa  ...         1199.0    5.0  100.0   \n",
              "4       OPEL    32.0   Combo Life  ...         1499.0    5.0  102.0   \n",
              "...      ...     ...          ...  ...            ...    ...    ...   \n",
              "14334  SKODA    40.0        Rapid  ...         1598.0    5.0  105.0   \n",
              "14335  SKODA    40.0        Fabia  ...         1198.0    5.0   60.0   \n",
              "14336  SKODA    40.0        Karoq  ...         1968.0    5.0  150.0   \n",
              "14337  SKODA    40.0      Octavia  ...         1598.0    5.0  115.0   \n",
              "14338  SKODA    40.0        Fabia  ...          999.0    5.0   95.0   \n",
              "\n",
              "       Unnamed: 0 seller_type_id body_types  body_types_id  date  \\\n",
              "0             NaN            NaN        NaN            NaN   NaN   \n",
              "1             NaN            NaN        NaN            NaN   NaN   \n",
              "2             NaN            NaN        NaN            NaN   NaN   \n",
              "3             NaN            NaN        NaN            NaN   NaN   \n",
              "4             NaN            NaN        NaN            NaN   NaN   \n",
              "...           ...            ...        ...            ...   ...   \n",
              "14334         NaN            NaN        NaN            NaN   NaN   \n",
              "14335         NaN            NaN        NaN            NaN   NaN   \n",
              "14336         NaN            NaN        NaN            NaN   NaN   \n",
              "14337         NaN            NaN        NaN            NaN   NaN   \n",
              "14338         NaN            NaN        NaN            NaN   NaN   \n",
              "\n",
              "      publicationDate  fecha  \n",
              "0                 NaN    NaN  \n",
              "1                 NaN    NaN  \n",
              "2                 NaN    NaN  \n",
              "3                 NaN    NaN  \n",
              "4                 NaN    NaN  \n",
              "...               ...    ...  \n",
              "14334             NaN    NaN  \n",
              "14335             NaN    NaN  \n",
              "14336             NaN    NaN  \n",
              "14337             NaN    NaN  \n",
              "14338             NaN    NaN  \n",
              "\n",
              "[14339 rows x 34 columns]"
            ]
          },
          "execution_count": 9,
          "metadata": {},
          "output_type": "execute_result"
        }
      ],
      "source": [
        "df"
      ]
    },
    {
      "cell_type": "code",
      "execution_count": 10,
      "metadata": {
        "colab": {
          "base_uri": "https://localhost:8080/"
        },
        "id": "YSLfrn345iUt",
        "outputId": "18a2c3a5-20cb-47ee-eacc-e48ef8bc9386"
      },
      "outputs": [
        {
          "data": {
            "text/plain": [
              "url                           object\n",
              "datetime              datetime64[ns]\n",
              "color                         object\n",
              "fuelTypeId                   float64\n",
              "fuelType                      object\n",
              "id                            object\n",
              "km                           float64\n",
              "make                          object\n",
              "makeId                       float64\n",
              "model                         object\n",
              "modelId                      float64\n",
              "price                        float64\n",
              "province                      object\n",
              "provinceId                   float64\n",
              "title                         object\n",
              "transmissionType              object\n",
              "transmissionTypeId           float64\n",
              "year                         float64\n",
              "brand                         object\n",
              "brand_id                     float64\n",
              "fuel_types                    object\n",
              "model_id                     float64\n",
              "seller_type                   object\n",
              "bodyType                      object\n",
              "cubicCapacity                float64\n",
              "doors                        float64\n",
              "hp                           float64\n",
              "Unnamed: 0                   float64\n",
              "seller_type_id               float64\n",
              "body_types                    object\n",
              "body_types_id                float64\n",
              "date                          object\n",
              "publicationDate               object\n",
              "fecha                         object\n",
              "dtype: object"
            ]
          },
          "execution_count": 10,
          "metadata": {},
          "output_type": "execute_result"
        }
      ],
      "source": [
        "df.dtypes"
      ]
    },
    {
      "cell_type": "code",
      "execution_count": 11,
      "metadata": {
        "colab": {
          "base_uri": "https://localhost:8080/",
          "height": 0
        },
        "id": "tCKww_645ev7",
        "outputId": "d3b0670d-4012-48f5-aa76-15b5da03278f"
      },
      "outputs": [
        {
          "data": {
            "text/html": [
              "\n",
              "  <div id=\"df-39126908-f9c6-43f7-8492-bf73c388654f\">\n",
              "    <div class=\"colab-df-container\">\n",
              "      <div>\n",
              "<style scoped>\n",
              "    .dataframe tbody tr th:only-of-type {\n",
              "        vertical-align: middle;\n",
              "    }\n",
              "\n",
              "    .dataframe tbody tr th {\n",
              "        vertical-align: top;\n",
              "    }\n",
              "\n",
              "    .dataframe thead th {\n",
              "        text-align: right;\n",
              "    }\n",
              "</style>\n",
              "<table border=\"1\" class=\"dataframe\">\n",
              "  <thead>\n",
              "    <tr style=\"text-align: right;\">\n",
              "      <th></th>\n",
              "      <th>fuelTypeId</th>\n",
              "      <th>km</th>\n",
              "      <th>makeId</th>\n",
              "      <th>modelId</th>\n",
              "      <th>price</th>\n",
              "      <th>provinceId</th>\n",
              "      <th>transmissionTypeId</th>\n",
              "      <th>year</th>\n",
              "      <th>brand_id</th>\n",
              "      <th>model_id</th>\n",
              "      <th>cubicCapacity</th>\n",
              "      <th>doors</th>\n",
              "      <th>hp</th>\n",
              "      <th>Unnamed: 0</th>\n",
              "      <th>seller_type_id</th>\n",
              "      <th>body_types_id</th>\n",
              "    </tr>\n",
              "  </thead>\n",
              "  <tbody>\n",
              "    <tr>\n",
              "      <th>count</th>\n",
              "      <td>14333.000000</td>\n",
              "      <td>14333.000000</td>\n",
              "      <td>14333.000000</td>\n",
              "      <td>14322.000000</td>\n",
              "      <td>14333.000000</td>\n",
              "      <td>14333.000000</td>\n",
              "      <td>14330.000000</td>\n",
              "      <td>14333.000000</td>\n",
              "      <td>11287.000000</td>\n",
              "      <td>11278.000000</td>\n",
              "      <td>13861.000000</td>\n",
              "      <td>14322.000000</td>\n",
              "      <td>14092.000000</td>\n",
              "      <td>2014.000000</td>\n",
              "      <td>2008.000000</td>\n",
              "      <td>1965.000000</td>\n",
              "    </tr>\n",
              "    <tr>\n",
              "      <th>mean</th>\n",
              "      <td>1.746948</td>\n",
              "      <td>73501.972162</td>\n",
              "      <td>66.703900</td>\n",
              "      <td>696.093981</td>\n",
              "      <td>24535.759994</td>\n",
              "      <td>26.812182</td>\n",
              "      <td>1.582205</td>\n",
              "      <td>2018.192144</td>\n",
              "      <td>81.334190</td>\n",
              "      <td>684.056748</td>\n",
              "      <td>1698.981531</td>\n",
              "      <td>4.776079</td>\n",
              "      <td>149.162362</td>\n",
              "      <td>1006.500000</td>\n",
              "      <td>1.095120</td>\n",
              "      <td>4.040712</td>\n",
              "    </tr>\n",
              "    <tr>\n",
              "      <th>std</th>\n",
              "      <td>1.028114</td>\n",
              "      <td>42234.531008</td>\n",
              "      <td>211.545841</td>\n",
              "      <td>432.785892</td>\n",
              "      <td>18164.999356</td>\n",
              "      <td>13.842755</td>\n",
              "      <td>0.493213</td>\n",
              "      <td>2.346945</td>\n",
              "      <td>236.208842</td>\n",
              "      <td>440.037079</td>\n",
              "      <td>549.644699</td>\n",
              "      <td>0.637869</td>\n",
              "      <td>75.363055</td>\n",
              "      <td>581.536041</td>\n",
              "      <td>0.293453</td>\n",
              "      <td>2.296586</td>\n",
              "    </tr>\n",
              "    <tr>\n",
              "      <th>min</th>\n",
              "      <td>1.000000</td>\n",
              "      <td>10000.000000</td>\n",
              "      <td>1.000000</td>\n",
              "      <td>2.000000</td>\n",
              "      <td>4000.000000</td>\n",
              "      <td>1.000000</td>\n",
              "      <td>1.000000</td>\n",
              "      <td>2012.000000</td>\n",
              "      <td>1.000000</td>\n",
              "      <td>2.000000</td>\n",
              "      <td>647.000000</td>\n",
              "      <td>2.000000</td>\n",
              "      <td>60.000000</td>\n",
              "      <td>0.000000</td>\n",
              "      <td>1.000000</td>\n",
              "      <td>1.000000</td>\n",
              "    </tr>\n",
              "    <tr>\n",
              "      <th>25%</th>\n",
              "      <td>1.000000</td>\n",
              "      <td>38600.000000</td>\n",
              "      <td>15.000000</td>\n",
              "      <td>318.000000</td>\n",
              "      <td>15500.000000</td>\n",
              "      <td>14.000000</td>\n",
              "      <td>1.000000</td>\n",
              "      <td>2017.000000</td>\n",
              "      <td>22.000000</td>\n",
              "      <td>275.000000</td>\n",
              "      <td>1395.000000</td>\n",
              "      <td>5.000000</td>\n",
              "      <td>110.000000</td>\n",
              "      <td>503.250000</td>\n",
              "      <td>1.000000</td>\n",
              "      <td>1.000000</td>\n",
              "    </tr>\n",
              "    <tr>\n",
              "      <th>50%</th>\n",
              "      <td>1.000000</td>\n",
              "      <td>68305.000000</td>\n",
              "      <td>28.000000</td>\n",
              "      <td>628.000000</td>\n",
              "      <td>20900.000000</td>\n",
              "      <td>28.000000</td>\n",
              "      <td>2.000000</td>\n",
              "      <td>2018.000000</td>\n",
              "      <td>33.000000</td>\n",
              "      <td>628.000000</td>\n",
              "      <td>1598.000000</td>\n",
              "      <td>5.000000</td>\n",
              "      <td>130.000000</td>\n",
              "      <td>1006.500000</td>\n",
              "      <td>1.000000</td>\n",
              "      <td>6.000000</td>\n",
              "    </tr>\n",
              "    <tr>\n",
              "      <th>75%</th>\n",
              "      <td>2.000000</td>\n",
              "      <td>100123.000000</td>\n",
              "      <td>39.000000</td>\n",
              "      <td>1098.000000</td>\n",
              "      <td>27900.000000</td>\n",
              "      <td>38.000000</td>\n",
              "      <td>2.000000</td>\n",
              "      <td>2020.000000</td>\n",
              "      <td>43.000000</td>\n",
              "      <td>1100.000000</td>\n",
              "      <td>1991.000000</td>\n",
              "      <td>5.000000</td>\n",
              "      <td>156.000000</td>\n",
              "      <td>1509.750000</td>\n",
              "      <td>1.000000</td>\n",
              "      <td>6.000000</td>\n",
              "    </tr>\n",
              "    <tr>\n",
              "      <th>max</th>\n",
              "      <td>7.000000</td>\n",
              "      <td>180000.000000</td>\n",
              "      <td>1400.000000</td>\n",
              "      <td>1442.000000</td>\n",
              "      <td>450000.000000</td>\n",
              "      <td>52.000000</td>\n",
              "      <td>2.000000</td>\n",
              "      <td>2022.000000</td>\n",
              "      <td>1400.000000</td>\n",
              "      <td>1442.000000</td>\n",
              "      <td>6496.000000</td>\n",
              "      <td>5.000000</td>\n",
              "      <td>800.000000</td>\n",
              "      <td>2013.000000</td>\n",
              "      <td>2.000000</td>\n",
              "      <td>6.000000</td>\n",
              "    </tr>\n",
              "  </tbody>\n",
              "</table>\n",
              "</div>\n",
              "      <button class=\"colab-df-convert\" onclick=\"convertToInteractive('df-39126908-f9c6-43f7-8492-bf73c388654f')\"\n",
              "              title=\"Convert this dataframe to an interactive table.\"\n",
              "              style=\"display:none;\">\n",
              "        \n",
              "  <svg xmlns=\"http://www.w3.org/2000/svg\" height=\"24px\"viewBox=\"0 0 24 24\"\n",
              "       width=\"24px\">\n",
              "    <path d=\"M0 0h24v24H0V0z\" fill=\"none\"/>\n",
              "    <path d=\"M18.56 5.44l.94 2.06.94-2.06 2.06-.94-2.06-.94-.94-2.06-.94 2.06-2.06.94zm-11 1L8.5 8.5l.94-2.06 2.06-.94-2.06-.94L8.5 2.5l-.94 2.06-2.06.94zm10 10l.94 2.06.94-2.06 2.06-.94-2.06-.94-.94-2.06-.94 2.06-2.06.94z\"/><path d=\"M17.41 7.96l-1.37-1.37c-.4-.4-.92-.59-1.43-.59-.52 0-1.04.2-1.43.59L10.3 9.45l-7.72 7.72c-.78.78-.78 2.05 0 2.83L4 21.41c.39.39.9.59 1.41.59.51 0 1.02-.2 1.41-.59l7.78-7.78 2.81-2.81c.8-.78.8-2.07 0-2.86zM5.41 20L4 18.59l7.72-7.72 1.47 1.35L5.41 20z\"/>\n",
              "  </svg>\n",
              "      </button>\n",
              "      \n",
              "  <style>\n",
              "    .colab-df-container {\n",
              "      display:flex;\n",
              "      flex-wrap:wrap;\n",
              "      gap: 12px;\n",
              "    }\n",
              "\n",
              "    .colab-df-convert {\n",
              "      background-color: #E8F0FE;\n",
              "      border: none;\n",
              "      border-radius: 50%;\n",
              "      cursor: pointer;\n",
              "      display: none;\n",
              "      fill: #1967D2;\n",
              "      height: 32px;\n",
              "      padding: 0 0 0 0;\n",
              "      width: 32px;\n",
              "    }\n",
              "\n",
              "    .colab-df-convert:hover {\n",
              "      background-color: #E2EBFA;\n",
              "      box-shadow: 0px 1px 2px rgba(60, 64, 67, 0.3), 0px 1px 3px 1px rgba(60, 64, 67, 0.15);\n",
              "      fill: #174EA6;\n",
              "    }\n",
              "\n",
              "    [theme=dark] .colab-df-convert {\n",
              "      background-color: #3B4455;\n",
              "      fill: #D2E3FC;\n",
              "    }\n",
              "\n",
              "    [theme=dark] .colab-df-convert:hover {\n",
              "      background-color: #434B5C;\n",
              "      box-shadow: 0px 1px 3px 1px rgba(0, 0, 0, 0.15);\n",
              "      filter: drop-shadow(0px 1px 2px rgba(0, 0, 0, 0.3));\n",
              "      fill: #FFFFFF;\n",
              "    }\n",
              "  </style>\n",
              "\n",
              "      <script>\n",
              "        const buttonEl =\n",
              "          document.querySelector('#df-39126908-f9c6-43f7-8492-bf73c388654f button.colab-df-convert');\n",
              "        buttonEl.style.display =\n",
              "          google.colab.kernel.accessAllowed ? 'block' : 'none';\n",
              "\n",
              "        async function convertToInteractive(key) {\n",
              "          const element = document.querySelector('#df-39126908-f9c6-43f7-8492-bf73c388654f');\n",
              "          const dataTable =\n",
              "            await google.colab.kernel.invokeFunction('convertToInteractive',\n",
              "                                                     [key], {});\n",
              "          if (!dataTable) return;\n",
              "\n",
              "          const docLinkHtml = 'Like what you see? Visit the ' +\n",
              "            '<a target=\"_blank\" href=https://colab.research.google.com/notebooks/data_table.ipynb>data table notebook</a>'\n",
              "            + ' to learn more about interactive tables.';\n",
              "          element.innerHTML = '';\n",
              "          dataTable['output_type'] = 'display_data';\n",
              "          await google.colab.output.renderOutput(dataTable, element);\n",
              "          const docLink = document.createElement('div');\n",
              "          docLink.innerHTML = docLinkHtml;\n",
              "          element.appendChild(docLink);\n",
              "        }\n",
              "      </script>\n",
              "    </div>\n",
              "  </div>\n",
              "  "
            ],
            "text/plain": [
              "         fuelTypeId             km        makeId       modelId          price  \\\n",
              "count  14333.000000   14333.000000  14333.000000  14322.000000   14333.000000   \n",
              "mean       1.746948   73501.972162     66.703900    696.093981   24535.759994   \n",
              "std        1.028114   42234.531008    211.545841    432.785892   18164.999356   \n",
              "min        1.000000   10000.000000      1.000000      2.000000    4000.000000   \n",
              "25%        1.000000   38600.000000     15.000000    318.000000   15500.000000   \n",
              "50%        1.000000   68305.000000     28.000000    628.000000   20900.000000   \n",
              "75%        2.000000  100123.000000     39.000000   1098.000000   27900.000000   \n",
              "max        7.000000  180000.000000   1400.000000   1442.000000  450000.000000   \n",
              "\n",
              "         provinceId  transmissionTypeId          year      brand_id  \\\n",
              "count  14333.000000        14330.000000  14333.000000  11287.000000   \n",
              "mean      26.812182            1.582205   2018.192144     81.334190   \n",
              "std       13.842755            0.493213      2.346945    236.208842   \n",
              "min        1.000000            1.000000   2012.000000      1.000000   \n",
              "25%       14.000000            1.000000   2017.000000     22.000000   \n",
              "50%       28.000000            2.000000   2018.000000     33.000000   \n",
              "75%       38.000000            2.000000   2020.000000     43.000000   \n",
              "max       52.000000            2.000000   2022.000000   1400.000000   \n",
              "\n",
              "           model_id  cubicCapacity         doors            hp   Unnamed: 0  \\\n",
              "count  11278.000000   13861.000000  14322.000000  14092.000000  2014.000000   \n",
              "mean     684.056748    1698.981531      4.776079    149.162362  1006.500000   \n",
              "std      440.037079     549.644699      0.637869     75.363055   581.536041   \n",
              "min        2.000000     647.000000      2.000000     60.000000     0.000000   \n",
              "25%      275.000000    1395.000000      5.000000    110.000000   503.250000   \n",
              "50%      628.000000    1598.000000      5.000000    130.000000  1006.500000   \n",
              "75%     1100.000000    1991.000000      5.000000    156.000000  1509.750000   \n",
              "max     1442.000000    6496.000000      5.000000    800.000000  2013.000000   \n",
              "\n",
              "       seller_type_id  body_types_id  \n",
              "count     2008.000000    1965.000000  \n",
              "mean         1.095120       4.040712  \n",
              "std          0.293453       2.296586  \n",
              "min          1.000000       1.000000  \n",
              "25%          1.000000       1.000000  \n",
              "50%          1.000000       6.000000  \n",
              "75%          1.000000       6.000000  \n",
              "max          2.000000       6.000000  "
            ]
          },
          "execution_count": 11,
          "metadata": {},
          "output_type": "execute_result"
        }
      ],
      "source": [
        "df.describe()"
      ]
    },
    {
      "cell_type": "markdown",
      "metadata": {
        "id": "9GIN9F7wczQz"
      },
      "source": [
        "# 3. Preparación de datos."
      ]
    },
    {
      "cell_type": "code",
      "execution_count": 12,
      "metadata": {
        "colab": {
          "base_uri": "https://localhost:8080/"
        },
        "id": "6kaelR_Yxjzb",
        "outputId": "fb854799-7360-4104-a580-842099a25629"
      },
      "outputs": [
        {
          "data": {
            "text/plain": [
              "url                   False\n",
              "datetime               True\n",
              "color                  True\n",
              "fuelTypeId             True\n",
              "fuelType               True\n",
              "id                     True\n",
              "km                     True\n",
              "make                   True\n",
              "makeId                 True\n",
              "model                  True\n",
              "modelId                True\n",
              "price                  True\n",
              "province               True\n",
              "provinceId             True\n",
              "title                  True\n",
              "transmissionType       True\n",
              "transmissionTypeId     True\n",
              "year                   True\n",
              "brand                  True\n",
              "brand_id               True\n",
              "fuel_types             True\n",
              "model_id               True\n",
              "seller_type            True\n",
              "bodyType               True\n",
              "cubicCapacity          True\n",
              "doors                  True\n",
              "hp                     True\n",
              "Unnamed: 0             True\n",
              "seller_type_id         True\n",
              "body_types             True\n",
              "body_types_id          True\n",
              "date                   True\n",
              "publicationDate        True\n",
              "fecha                  True\n",
              "dtype: bool"
            ]
          },
          "execution_count": 12,
          "metadata": {},
          "output_type": "execute_result"
        }
      ],
      "source": [
        "pd.isnull(df).any()"
      ]
    },
    {
      "cell_type": "code",
      "execution_count": 13,
      "metadata": {
        "colab": {
          "base_uri": "https://localhost:8080/"
        },
        "id": "yTJSH4svxjzc",
        "outputId": "4a1da3a1-e385-410b-c6e9-95589992034e"
      },
      "outputs": [
        {
          "name": "stdout",
          "output_type": "stream",
          "text": [
            "datetime               4102\n",
            "color                     8\n",
            "fuelTypeId                6\n",
            "fuelType                  6\n",
            "id                        6\n",
            "km                        6\n",
            "make                      6\n",
            "makeId                    6\n",
            "model                     6\n",
            "modelId                  17\n",
            "price                     6\n",
            "province                  6\n",
            "provinceId                6\n",
            "title                     6\n",
            "transmissionType          9\n",
            "transmissionTypeId        9\n",
            "year                      6\n",
            "brand                  3052\n",
            "brand_id               3052\n",
            "fuel_types             3052\n",
            "model_id               3061\n",
            "seller_type               6\n",
            "bodyType               2206\n",
            "cubicCapacity           478\n",
            "doors                    17\n",
            "hp                      247\n",
            "Unnamed: 0            12325\n",
            "seller_type_id        12331\n",
            "body_types            12374\n",
            "body_types_id         12374\n",
            "date                  12325\n",
            "publicationDate       13301\n",
            "fecha                 13301\n",
            "dtype: int64\n"
          ]
        }
      ],
      "source": [
        "columns_without_values(df)"
      ]
    },
    {
      "cell_type": "code",
      "execution_count": 14,
      "metadata": {
        "id": "Y9lhpyWjc2dB"
      },
      "outputs": [],
      "source": [
        "df = df.drop_duplicates(keep='first')"
      ]
    },
    {
      "cell_type": "code",
      "execution_count": 15,
      "metadata": {
        "colab": {
          "base_uri": "https://localhost:8080/"
        },
        "id": "U5dU1L0p2xpB",
        "outputId": "cb0116ca-8f85-4bfb-a858-7e1113bca1b9"
      },
      "outputs": [
        {
          "name": "stderr",
          "output_type": "stream",
          "text": [
            "<ipython-input-15-0f6c81b0d6d1>:4: SettingWithCopyWarning: \n",
            "A value is trying to be set on a copy of a slice from a DataFrame.\n",
            "Try using .loc[row_indexer,col_indexer] = value instead\n",
            "\n",
            "See the caveats in the documentation: https://pandas.pydata.org/pandas-docs/stable/user_guide/indexing.html#returning-a-view-versus-a-copy\n",
            "  df['bodyType'] = df.apply(lambda row: x if pd.notnull(row['bodyType']) and row['bodyType'].lower() == y else row['bodyType'], axis=1)\n",
            "<ipython-input-15-0f6c81b0d6d1>:4: SettingWithCopyWarning: \n",
            "A value is trying to be set on a copy of a slice from a DataFrame.\n",
            "Try using .loc[row_indexer,col_indexer] = value instead\n",
            "\n",
            "See the caveats in the documentation: https://pandas.pydata.org/pandas-docs/stable/user_guide/indexing.html#returning-a-view-versus-a-copy\n",
            "  df['bodyType'] = df.apply(lambda row: x if pd.notnull(row['bodyType']) and row['bodyType'].lower() == y else row['bodyType'], axis=1)\n",
            "<ipython-input-15-0f6c81b0d6d1>:4: SettingWithCopyWarning: \n",
            "A value is trying to be set on a copy of a slice from a DataFrame.\n",
            "Try using .loc[row_indexer,col_indexer] = value instead\n",
            "\n",
            "See the caveats in the documentation: https://pandas.pydata.org/pandas-docs/stable/user_guide/indexing.html#returning-a-view-versus-a-copy\n",
            "  df['bodyType'] = df.apply(lambda row: x if pd.notnull(row['bodyType']) and row['bodyType'].lower() == y else row['bodyType'], axis=1)\n",
            "<ipython-input-15-0f6c81b0d6d1>:4: SettingWithCopyWarning: \n",
            "A value is trying to be set on a copy of a slice from a DataFrame.\n",
            "Try using .loc[row_indexer,col_indexer] = value instead\n",
            "\n",
            "See the caveats in the documentation: https://pandas.pydata.org/pandas-docs/stable/user_guide/indexing.html#returning-a-view-versus-a-copy\n",
            "  df['bodyType'] = df.apply(lambda row: x if pd.notnull(row['bodyType']) and row['bodyType'].lower() == y else row['bodyType'], axis=1)\n",
            "<ipython-input-15-0f6c81b0d6d1>:4: SettingWithCopyWarning: \n",
            "A value is trying to be set on a copy of a slice from a DataFrame.\n",
            "Try using .loc[row_indexer,col_indexer] = value instead\n",
            "\n",
            "See the caveats in the documentation: https://pandas.pydata.org/pandas-docs/stable/user_guide/indexing.html#returning-a-view-versus-a-copy\n",
            "  df['bodyType'] = df.apply(lambda row: x if pd.notnull(row['bodyType']) and row['bodyType'].lower() == y else row['bodyType'], axis=1)\n",
            "<ipython-input-15-0f6c81b0d6d1>:4: SettingWithCopyWarning: \n",
            "A value is trying to be set on a copy of a slice from a DataFrame.\n",
            "Try using .loc[row_indexer,col_indexer] = value instead\n",
            "\n",
            "See the caveats in the documentation: https://pandas.pydata.org/pandas-docs/stable/user_guide/indexing.html#returning-a-view-versus-a-copy\n",
            "  df['bodyType'] = df.apply(lambda row: x if pd.notnull(row['bodyType']) and row['bodyType'].lower() == y else row['bodyType'], axis=1)\n",
            "<ipython-input-15-0f6c81b0d6d1>:4: SettingWithCopyWarning: \n",
            "A value is trying to be set on a copy of a slice from a DataFrame.\n",
            "Try using .loc[row_indexer,col_indexer] = value instead\n",
            "\n",
            "See the caveats in the documentation: https://pandas.pydata.org/pandas-docs/stable/user_guide/indexing.html#returning-a-view-versus-a-copy\n",
            "  df['bodyType'] = df.apply(lambda row: x if pd.notnull(row['bodyType']) and row['bodyType'].lower() == y else row['bodyType'], axis=1)\n",
            "<ipython-input-15-0f6c81b0d6d1>:4: SettingWithCopyWarning: \n",
            "A value is trying to be set on a copy of a slice from a DataFrame.\n",
            "Try using .loc[row_indexer,col_indexer] = value instead\n",
            "\n",
            "See the caveats in the documentation: https://pandas.pydata.org/pandas-docs/stable/user_guide/indexing.html#returning-a-view-versus-a-copy\n",
            "  df['bodyType'] = df.apply(lambda row: x if pd.notnull(row['bodyType']) and row['bodyType'].lower() == y else row['bodyType'], axis=1)\n"
          ]
        }
      ],
      "source": [
        "posibles_bodyType = ['BODY_TYPE_4X4', 'BODY_TYPE_CABRIO', 'BODY_TYPE_COUPE', 'BODY_TYPE_FAMILIAR', 'BODY_TYPE_MINIVAN', 'BODY_TYPE_PICK_UP', 'BODY_TYPE_SEDAN', 'BODY_TYPE_BERLINA']\n",
        "posibles_body_types = ['4x4 suv', 'cabrio', 'coupe', 'familiar', 'minivan', 'pick up', 'sedan', 'berlina']\n",
        "for x, y in zip(posibles_bodyType, posibles_body_types):\n",
        "  df['bodyType'] = df.apply(lambda row: x if pd.notnull(row['bodyType']) and row['bodyType'].lower() == y else row['bodyType'], axis=1)"
      ]
    },
    {
      "cell_type": "code",
      "execution_count": 16,
      "metadata": {
        "colab": {
          "base_uri": "https://localhost:8080/"
        },
        "id": "KEUv__0EOGxb",
        "outputId": "86a92be9-94a2-4d61-a11a-26bd87d3fc15"
      },
      "outputs": [
        {
          "name": "stderr",
          "output_type": "stream",
          "text": [
            "<ipython-input-16-14874f05b12a>:2: SettingWithCopyWarning: \n",
            "A value is trying to be set on a copy of a slice from a DataFrame.\n",
            "Try using .loc[row_indexer,col_indexer] = value instead\n",
            "\n",
            "See the caveats in the documentation: https://pandas.pydata.org/pandas-docs/stable/user_guide/indexing.html#returning-a-view-versus-a-copy\n",
            "  df['bodyType'] = df.apply(lambda row: x if pd.notnull(row['bodyType']) and row['bodyType'].lower() == y else row['bodyType'], axis=1)\n",
            "<ipython-input-16-14874f05b12a>:2: SettingWithCopyWarning: \n",
            "A value is trying to be set on a copy of a slice from a DataFrame.\n",
            "Try using .loc[row_indexer,col_indexer] = value instead\n",
            "\n",
            "See the caveats in the documentation: https://pandas.pydata.org/pandas-docs/stable/user_guide/indexing.html#returning-a-view-versus-a-copy\n",
            "  df['bodyType'] = df.apply(lambda row: x if pd.notnull(row['bodyType']) and row['bodyType'].lower() == y else row['bodyType'], axis=1)\n",
            "<ipython-input-16-14874f05b12a>:2: SettingWithCopyWarning: \n",
            "A value is trying to be set on a copy of a slice from a DataFrame.\n",
            "Try using .loc[row_indexer,col_indexer] = value instead\n",
            "\n",
            "See the caveats in the documentation: https://pandas.pydata.org/pandas-docs/stable/user_guide/indexing.html#returning-a-view-versus-a-copy\n",
            "  df['bodyType'] = df.apply(lambda row: x if pd.notnull(row['bodyType']) and row['bodyType'].lower() == y else row['bodyType'], axis=1)\n",
            "<ipython-input-16-14874f05b12a>:2: SettingWithCopyWarning: \n",
            "A value is trying to be set on a copy of a slice from a DataFrame.\n",
            "Try using .loc[row_indexer,col_indexer] = value instead\n",
            "\n",
            "See the caveats in the documentation: https://pandas.pydata.org/pandas-docs/stable/user_guide/indexing.html#returning-a-view-versus-a-copy\n",
            "  df['bodyType'] = df.apply(lambda row: x if pd.notnull(row['bodyType']) and row['bodyType'].lower() == y else row['bodyType'], axis=1)\n",
            "<ipython-input-16-14874f05b12a>:2: SettingWithCopyWarning: \n",
            "A value is trying to be set on a copy of a slice from a DataFrame.\n",
            "Try using .loc[row_indexer,col_indexer] = value instead\n",
            "\n",
            "See the caveats in the documentation: https://pandas.pydata.org/pandas-docs/stable/user_guide/indexing.html#returning-a-view-versus-a-copy\n",
            "  df['bodyType'] = df.apply(lambda row: x if pd.notnull(row['bodyType']) and row['bodyType'].lower() == y else row['bodyType'], axis=1)\n",
            "<ipython-input-16-14874f05b12a>:2: SettingWithCopyWarning: \n",
            "A value is trying to be set on a copy of a slice from a DataFrame.\n",
            "Try using .loc[row_indexer,col_indexer] = value instead\n",
            "\n",
            "See the caveats in the documentation: https://pandas.pydata.org/pandas-docs/stable/user_guide/indexing.html#returning-a-view-versus-a-copy\n",
            "  df['bodyType'] = df.apply(lambda row: x if pd.notnull(row['bodyType']) and row['bodyType'].lower() == y else row['bodyType'], axis=1)\n",
            "<ipython-input-16-14874f05b12a>:2: SettingWithCopyWarning: \n",
            "A value is trying to be set on a copy of a slice from a DataFrame.\n",
            "Try using .loc[row_indexer,col_indexer] = value instead\n",
            "\n",
            "See the caveats in the documentation: https://pandas.pydata.org/pandas-docs/stable/user_guide/indexing.html#returning-a-view-versus-a-copy\n",
            "  df['bodyType'] = df.apply(lambda row: x if pd.notnull(row['bodyType']) and row['bodyType'].lower() == y else row['bodyType'], axis=1)\n",
            "<ipython-input-16-14874f05b12a>:2: SettingWithCopyWarning: \n",
            "A value is trying to be set on a copy of a slice from a DataFrame.\n",
            "Try using .loc[row_indexer,col_indexer] = value instead\n",
            "\n",
            "See the caveats in the documentation: https://pandas.pydata.org/pandas-docs/stable/user_guide/indexing.html#returning-a-view-versus-a-copy\n",
            "  df['bodyType'] = df.apply(lambda row: x if pd.notnull(row['bodyType']) and row['bodyType'].lower() == y else row['bodyType'], axis=1)\n"
          ]
        }
      ],
      "source": [
        "for x, y in zip(posibles_bodyType, posibles_body_types):\n",
        "  df['bodyType'] = df.apply(lambda row: x if pd.notnull(row['bodyType']) and row['bodyType'].lower() == y else row['bodyType'], axis=1)"
      ]
    },
    {
      "cell_type": "code",
      "execution_count": 17,
      "metadata": {
        "colab": {
          "base_uri": "https://localhost:8080/"
        },
        "id": "CgYA79WK26GM",
        "outputId": "d285da72-2fc0-4c80-83b4-babc3c5df7cb"
      },
      "outputs": [
        {
          "name": "stderr",
          "output_type": "stream",
          "text": [
            "<ipython-input-17-458298c35486>:1: SettingWithCopyWarning: \n",
            "A value is trying to be set on a copy of a slice from a DataFrame.\n",
            "Try using .loc[row_indexer,col_indexer] = value instead\n",
            "\n",
            "See the caveats in the documentation: https://pandas.pydata.org/pandas-docs/stable/user_guide/indexing.html#returning-a-view-versus-a-copy\n",
            "  df['color'] = df['color'].apply(lambda x: str(x).split('.')[-1] if 'COMMON' in str(x)\n"
          ]
        }
      ],
      "source": [
        "df['color'] = df['color'].apply(lambda x: str(x).split('.')[-1] if 'COMMON' in str(x) \n",
        "                                else f'COLOR_{x}' if not pd.isna(x) \n",
        "                                else x)"
      ]
    },
    {
      "cell_type": "code",
      "execution_count": 18,
      "metadata": {
        "colab": {
          "base_uri": "https://localhost:8080/"
        },
        "id": "ive_gI9SQ85g",
        "outputId": "1df69e4a-b5c1-43a8-cce5-039bdcc86740"
      },
      "outputs": [
        {
          "name": "stderr",
          "output_type": "stream",
          "text": [
            "<ipython-input-18-2f866030aa60>:1: SettingWithCopyWarning: \n",
            "A value is trying to be set on a copy of a slice from a DataFrame.\n",
            "Try using .loc[row_indexer,col_indexer] = value instead\n",
            "\n",
            "See the caveats in the documentation: https://pandas.pydata.org/pandas-docs/stable/user_guide/indexing.html#returning-a-view-versus-a-copy\n",
            "  df['transmissionType'] = df['transmissionType'].apply(lambda x: 'TRANSMISSION_AUTOMATIC' if 'AUTOMATIC' in str(x) else 'TRANSMISSION_MANUAL' if not pd.isna(x) else x )\n"
          ]
        }
      ],
      "source": [
        "df['transmissionType'] = df['transmissionType'].apply(lambda x: 'TRANSMISSION_AUTOMATIC' if 'AUTOMATIC' in str(x) else 'TRANSMISSION_MANUAL' if not pd.isna(x) else x )"
      ]
    },
    {
      "cell_type": "code",
      "execution_count": 19,
      "metadata": {
        "id": "dUE3xzSWuFn_"
      },
      "outputs": [],
      "source": [
        "df = df.drop(['url', 'modelId', 'datetime', 'date', 'fecha', 'Unnamed: 0', 'seller_type_id', 'id', 'publicationDate', 'fuel_types', 'model_id', 'brand', 'brand_id', 'body_types_id', 'title', 'body_types', 'transmissionTypeId', 'fuelTypeId', 'makeId', 'provinceId', ], axis=1)"
      ]
    },
    {
      "cell_type": "code",
      "execution_count": 20,
      "metadata": {
        "id": "gklUN-3fJmyI"
      },
      "outputs": [],
      "source": [
        "df = df.dropna(how='all')"
      ]
    },
    {
      "cell_type": "code",
      "execution_count": 21,
      "metadata": {
        "colab": {
          "base_uri": "https://localhost:8080/"
        },
        "id": "5vJ7AK5JdEVy",
        "outputId": "e5df9f9c-f98a-4ea9-95b2-1284c36d6175"
      },
      "outputs": [
        {
          "data": {
            "text/plain": [
              "color                True\n",
              "fuelType            False\n",
              "km                  False\n",
              "make                False\n",
              "model               False\n",
              "price               False\n",
              "province            False\n",
              "transmissionType     True\n",
              "year                False\n",
              "seller_type         False\n",
              "bodyType             True\n",
              "cubicCapacity        True\n",
              "doors                True\n",
              "hp                   True\n",
              "dtype: bool"
            ]
          },
          "execution_count": 21,
          "metadata": {},
          "output_type": "execute_result"
        }
      ],
      "source": [
        "pd.isnull(df).any()"
      ]
    },
    {
      "cell_type": "code",
      "execution_count": 22,
      "metadata": {
        "colab": {
          "base_uri": "https://localhost:8080/"
        },
        "id": "J8lo7MGSdG99",
        "outputId": "66e58a83-5273-4762-e53b-95e29481f19c"
      },
      "outputs": [
        {
          "name": "stdout",
          "output_type": "stream",
          "text": [
            "color                  2\n",
            "transmissionType       3\n",
            "bodyType            2200\n",
            "cubicCapacity        469\n",
            "doors                 11\n",
            "hp                   241\n",
            "dtype: int64\n"
          ]
        }
      ],
      "source": [
        "columns_without_values(df)"
      ]
    },
    {
      "cell_type": "code",
      "execution_count": 23,
      "metadata": {
        "id": "sSpBBKbNd3_P"
      },
      "outputs": [],
      "source": [
        "df.fillna(df.mode().iloc[0], inplace=True)"
      ]
    },
    {
      "cell_type": "code",
      "execution_count": 24,
      "metadata": {
        "colab": {
          "base_uri": "https://localhost:8080/"
        },
        "id": "3BHlHe3Sd8Q-",
        "outputId": "9be260a4-3891-4061-f19c-b038d7f962d6"
      },
      "outputs": [
        {
          "data": {
            "text/plain": [
              "color               False\n",
              "fuelType            False\n",
              "km                  False\n",
              "make                False\n",
              "model               False\n",
              "price               False\n",
              "province            False\n",
              "transmissionType    False\n",
              "year                False\n",
              "seller_type         False\n",
              "bodyType            False\n",
              "cubicCapacity       False\n",
              "doors               False\n",
              "hp                  False\n",
              "dtype: bool"
            ]
          },
          "execution_count": 24,
          "metadata": {},
          "output_type": "execute_result"
        }
      ],
      "source": [
        "pd.isnull(df).any()"
      ]
    },
    {
      "cell_type": "code",
      "execution_count": 25,
      "metadata": {
        "id": "YoHhMI8xeLqB"
      },
      "outputs": [],
      "source": [
        "df.reset_index(drop=True, inplace=True)"
      ]
    },
    {
      "cell_type": "markdown",
      "metadata": {
        "id": "p2p0Tmxje6ZH"
      },
      "source": [
        "# 4. Nomalización de los datos."
      ]
    },
    {
      "cell_type": "code",
      "execution_count": 26,
      "metadata": {
        "colab": {
          "base_uri": "https://localhost:8080/"
        },
        "id": "OPgyPSMAe_2w",
        "outputId": "7cbf1721-bb01-4c65-9a87-68ab443e57ff"
      },
      "outputs": [
        {
          "name": "stdout",
          "output_type": "stream",
          "text": [
            "campos_numericos ['km', 'year', 'cubicCapacity', 'doors', 'hp']\n",
            "campos_categoricos ['color', 'fuelType', 'make', 'model', 'province', 'transmissionType', 'seller_type', 'bodyType']\n",
            "all_features_name ['km', 'year', 'cubicCapacity', 'doors', 'hp', 'color', 'fuelType', 'make', 'model', 'province', 'transmissionType', 'seller_type', 'bodyType']\n"
          ]
        }
      ],
      "source": [
        "campos_numericos = []\n",
        "\n",
        "campos_categoricos = []\n",
        "for columna in df.columns:\n",
        "    if df[columna].dtype == 'int64' or df[columna].dtype == 'float64':\n",
        "        campos_numericos.append(columna)\n",
        "    else:\n",
        "        campos_categoricos.append(columna)\n",
        "\n",
        "campos_numericos.remove('price')\n",
        "print('campos_numericos',campos_numericos)\n",
        "\n",
        "print('campos_categoricos', campos_categoricos)\n",
        "\n",
        "all_feature_names = campos_numericos + campos_categoricos\n",
        "print('all_features_name', all_feature_names)\n",
        "\n",
        "target = 'price'"
      ]
    },
    {
      "cell_type": "markdown",
      "metadata": {
        "id": "d4f-jjdRk_fX"
      },
      "source": [
        "# 5. Generar fichero json con df."
      ]
    },
    {
      "cell_type": "code",
      "execution_count": 29,
      "metadata": {
        "id": "fwNsGsFnlQCH"
      },
      "outputs": [],
      "source": [
        "df.to_json('datos.json', orient='table', index=True, indent=4)"
      ]
    }
  ],
  "metadata": {
    "colab": {
      "authorship_tag": "ABX9TyMVzszu/OFe61DeXFb4k/Ay",
      "collapsed_sections": [
        "gUwSHbfzQ_qi"
      ],
      "include_colab_link": true,
      "provenance": []
    },
    "kernelspec": {
      "display_name": "Python 3",
      "name": "python3"
    },
    "language_info": {
      "name": "python"
    }
  },
  "nbformat": 4,
  "nbformat_minor": 0
}
